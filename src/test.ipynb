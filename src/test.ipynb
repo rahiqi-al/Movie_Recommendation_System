{
 "cells": [
  {
   "cell_type": "code",
   "execution_count": 4,
   "metadata": {},
   "outputs": [],
   "source": [
    "from pyspark.sql import SparkSession \n",
    "from pyspark.sql.functions import from_unixtime, col,to_date, date_format\n"
   ]
  },
  {
   "cell_type": "code",
   "execution_count": 5,
   "metadata": {},
   "outputs": [
    {
     "name": "stderr",
     "output_type": "stream",
     "text": [
      "25/03/12 14:40:51 WARN Utils: Your hostname, ali-ThinkBook-14-G2-ITL resolves to a loopback address: 127.0.1.1; using 172.16.8.114 instead (on interface wlp0s20f3)\n",
      "25/03/12 14:40:51 WARN Utils: Set SPARK_LOCAL_IP if you need to bind to another address\n",
      "Setting default log level to \"WARN\".\n",
      "To adjust logging level use sc.setLogLevel(newLevel). For SparkR, use setLogLevel(newLevel).\n",
      "25/03/12 14:40:52 WARN NativeCodeLoader: Unable to load native-hadoop library for your platform... using builtin-java classes where applicable\n"
     ]
    }
   ],
   "source": [
    "spark = SparkSession.builder.appName('movie').getOrCreate()\n"
   ]
  },
  {
   "cell_type": "code",
   "execution_count": 6,
   "metadata": {},
   "outputs": [],
   "source": [
    "df_data = spark.read.csv(\"file:///home/ali/Desktop/Movie Recommendation System/data/ml-100k/u.data\", \n",
    "                    sep=\"\\t\", \n",
    "                    schema=\"userId INT, movieId INT, rating FLOAT, timestamp LONG\")"
   ]
  },
  {
   "cell_type": "code",
   "execution_count": 7,
   "metadata": {},
   "outputs": [
    {
     "name": "stderr",
     "output_type": "stream",
     "text": [
      "                                                                                \r"
     ]
    },
    {
     "name": "stdout",
     "output_type": "stream",
     "text": [
      "+------+-------+------+---------+\n",
      "|userId|movieId|rating|timestamp|\n",
      "+------+-------+------+---------+\n",
      "|   196|    242|   3.0|881250949|\n",
      "|   186|    302|   3.0|891717742|\n",
      "|    22|    377|   1.0|878887116|\n",
      "|   244|     51|   2.0|880606923|\n",
      "|   166|    346|   1.0|886397596|\n",
      "|   298|    474|   4.0|884182806|\n",
      "|   115|    265|   2.0|881171488|\n",
      "|   253|    465|   5.0|891628467|\n",
      "|   305|    451|   3.0|886324817|\n",
      "|     6|     86|   3.0|883603013|\n",
      "|    62|    257|   2.0|879372434|\n",
      "|   286|   1014|   5.0|879781125|\n",
      "|   200|    222|   5.0|876042340|\n",
      "|   210|     40|   3.0|891035994|\n",
      "|   224|     29|   3.0|888104457|\n",
      "|   303|    785|   3.0|879485318|\n",
      "|   122|    387|   5.0|879270459|\n",
      "|   194|    274|   2.0|879539794|\n",
      "|   291|   1042|   4.0|874834944|\n",
      "|   234|   1184|   2.0|892079237|\n",
      "+------+-------+------+---------+\n",
      "only showing top 20 rows\n",
      "\n"
     ]
    }
   ],
   "source": [
    "df_data.show()"
   ]
  },
  {
   "cell_type": "code",
   "execution_count": 8,
   "metadata": {},
   "outputs": [],
   "source": [
    "df_genre = spark.read.csv(\"file:///home/ali/Desktop/Movie Recommendation System/data/ml-100k/u.genre\", \n",
    "                           sep=\"|\", \n",
    "                           schema=\"genre STRING, id INT\")\n",
    "\n",
    "df_info = spark.read.csv(\"file:///home/ali/Desktop/Movie Recommendation System/data/ml-100k/u.info\", \n",
    "                          sep=\" \", \n",
    "                          schema=\"value INT, description STRING\")\n",
    "\n",
    "df_item = spark.read.csv(\"file:///home/ali/Desktop/Movie Recommendation System/data/ml-100k/u.item\", \n",
    "                          sep=\"|\", \n",
    "                          schema=\"movieId INT, movieTitle STRING, releaseDate STRING, videoReleaseDate STRING, imdbUrl STRING, unknown INT, action INT, adventure INT, animation INT, childrens INT, comedy INT, crime INT, documentary INT, drama INT, fantasy INT, filmNoir INT, horror INT, musical INT, mystery INT, romance INT, sciFi INT, thriller INT, war INT, western INT\")\n",
    "\n",
    "df_occupation = spark.read.csv(\"file:///home/ali/Desktop/Movie Recommendation System/data/ml-100k/u.occupation\", \n",
    "                                 schema=\"occupation STRING\")\n",
    "\n",
    "df_user = spark.read.csv(\"file:///home/ali/Desktop/Movie Recommendation System/data/ml-100k/u.user\", \n",
    "                          sep=\"|\", \n",
    "                          schema=\"userId INT, age INT, gender STRING, occupation STRING, zipCode STRING\")"
   ]
  },
  {
   "cell_type": "code",
   "execution_count": 9,
   "metadata": {},
   "outputs": [
    {
     "name": "stdout",
     "output_type": "stream",
     "text": [
      "+-----------+---+\n",
      "|      genre| id|\n",
      "+-----------+---+\n",
      "|    unknown|  0|\n",
      "|     Action|  1|\n",
      "|  Adventure|  2|\n",
      "|  Animation|  3|\n",
      "| Children's|  4|\n",
      "|     Comedy|  5|\n",
      "|      Crime|  6|\n",
      "|Documentary|  7|\n",
      "|      Drama|  8|\n",
      "|    Fantasy|  9|\n",
      "|  Film-Noir| 10|\n",
      "|     Horror| 11|\n",
      "|    Musical| 12|\n",
      "|    Mystery| 13|\n",
      "|    Romance| 14|\n",
      "|     Sci-Fi| 15|\n",
      "|   Thriller| 16|\n",
      "|        War| 17|\n",
      "|    Western| 18|\n",
      "+-----------+---+\n",
      "\n"
     ]
    }
   ],
   "source": [
    "df_genre.show()"
   ]
  },
  {
   "cell_type": "code",
   "execution_count": 10,
   "metadata": {},
   "outputs": [
    {
     "name": "stdout",
     "output_type": "stream",
     "text": [
      "+-------+----------------------------------------------------+-----------+----------------+-------------------------------------------------------------------+-------+------+---------+---------+---------+------+-----+-----------+-----+-------+--------+------+-------+-------+-------+-----+--------+---+-------+\n",
      "|movieId|movieTitle                                          |releaseDate|videoReleaseDate|imdbUrl                                                            |unknown|action|adventure|animation|childrens|comedy|crime|documentary|drama|fantasy|filmNoir|horror|musical|mystery|romance|sciFi|thriller|war|western|\n",
      "+-------+----------------------------------------------------+-----------+----------------+-------------------------------------------------------------------+-------+------+---------+---------+---------+------+-----+-----------+-----+-------+--------+------+-------+-------+-------+-----+--------+---+-------+\n",
      "|1      |Toy Story (1995)                                    |01-Jan-1995|NULL            |http://us.imdb.com/M/title-exact?Toy%20Story%20(1995)              |0      |0     |0        |1        |1        |1     |0    |0          |0    |0      |0       |0     |0      |0      |0      |0    |0       |0  |0      |\n",
      "|2      |GoldenEye (1995)                                    |01-Jan-1995|NULL            |http://us.imdb.com/M/title-exact?GoldenEye%20(1995)                |0      |1     |1        |0        |0        |0     |0    |0          |0    |0      |0       |0     |0      |0      |0      |0    |1       |0  |0      |\n",
      "|3      |Four Rooms (1995)                                   |01-Jan-1995|NULL            |http://us.imdb.com/M/title-exact?Four%20Rooms%20(1995)             |0      |0     |0        |0        |0        |0     |0    |0          |0    |0      |0       |0     |0      |0      |0      |0    |1       |0  |0      |\n",
      "|4      |Get Shorty (1995)                                   |01-Jan-1995|NULL            |http://us.imdb.com/M/title-exact?Get%20Shorty%20(1995)             |0      |1     |0        |0        |0        |1     |0    |0          |1    |0      |0       |0     |0      |0      |0      |0    |0       |0  |0      |\n",
      "|5      |Copycat (1995)                                      |01-Jan-1995|NULL            |http://us.imdb.com/M/title-exact?Copycat%20(1995)                  |0      |0     |0        |0        |0        |0     |1    |0          |1    |0      |0       |0     |0      |0      |0      |0    |1       |0  |0      |\n",
      "|6      |Shanghai Triad (Yao a yao yao dao waipo qiao) (1995)|01-Jan-1995|NULL            |http://us.imdb.com/Title?Yao+a+yao+yao+dao+waipo+qiao+(1995)       |0      |0     |0        |0        |0        |0     |0    |0          |1    |0      |0       |0     |0      |0      |0      |0    |0       |0  |0      |\n",
      "|7      |Twelve Monkeys (1995)                               |01-Jan-1995|NULL            |http://us.imdb.com/M/title-exact?Twelve%20Monkeys%20(1995)         |0      |0     |0        |0        |0        |0     |0    |0          |1    |0      |0       |0     |0      |0      |0      |1    |0       |0  |0      |\n",
      "|8      |Babe (1995)                                         |01-Jan-1995|NULL            |http://us.imdb.com/M/title-exact?Babe%20(1995)                     |0      |0     |0        |0        |1        |1     |0    |0          |1    |0      |0       |0     |0      |0      |0      |0    |0       |0  |0      |\n",
      "|9      |Dead Man Walking (1995)                             |01-Jan-1995|NULL            |http://us.imdb.com/M/title-exact?Dead%20Man%20Walking%20(1995)     |0      |0     |0        |0        |0        |0     |0    |0          |1    |0      |0       |0     |0      |0      |0      |0    |0       |0  |0      |\n",
      "|10     |Richard III (1995)                                  |22-Jan-1996|NULL            |http://us.imdb.com/M/title-exact?Richard%20III%20(1995)            |0      |0     |0        |0        |0        |0     |0    |0          |1    |0      |0       |0     |0      |0      |0      |0    |0       |1  |0      |\n",
      "|11     |Seven (Se7en) (1995)                                |01-Jan-1995|NULL            |http://us.imdb.com/M/title-exact?Se7en%20(1995)                    |0      |0     |0        |0        |0        |0     |1    |0          |0    |0      |0       |0     |0      |0      |0      |0    |1       |0  |0      |\n",
      "|12     |Usual Suspects, The (1995)                          |14-Aug-1995|NULL            |http://us.imdb.com/M/title-exact?Usual%20Suspects,%20The%20(1995)  |0      |0     |0        |0        |0        |0     |1    |0          |0    |0      |0       |0     |0      |0      |0      |0    |1       |0  |0      |\n",
      "|13     |Mighty Aphrodite (1995)                             |30-Oct-1995|NULL            |http://us.imdb.com/M/title-exact?Mighty%20Aphrodite%20(1995)       |0      |0     |0        |0        |0        |1     |0    |0          |0    |0      |0       |0     |0      |0      |0      |0    |0       |0  |0      |\n",
      "|14     |Postino, Il (1994)                                  |01-Jan-1994|NULL            |http://us.imdb.com/M/title-exact?Postino,%20Il%20(1994)            |0      |0     |0        |0        |0        |0     |0    |0          |1    |0      |0       |0     |0      |0      |1      |0    |0       |0  |0      |\n",
      "|15     |Mr. Holland's Opus (1995)                           |29-Jan-1996|NULL            |http://us.imdb.com/M/title-exact?Mr.%20Holland's%20Opus%20(1995)   |0      |0     |0        |0        |0        |0     |0    |0          |1    |0      |0       |0     |0      |0      |0      |0    |0       |0  |0      |\n",
      "|16     |French Twist (Gazon maudit) (1995)                  |01-Jan-1995|NULL            |http://us.imdb.com/M/title-exact?Gazon%20maudit%20(1995)           |0      |0     |0        |0        |0        |1     |0    |0          |0    |0      |0       |0     |0      |0      |1      |0    |0       |0  |0      |\n",
      "|17     |From Dusk Till Dawn (1996)                          |05-Feb-1996|NULL            |http://us.imdb.com/M/title-exact?From%20Dusk%20Till%20Dawn%20(1996)|0      |1     |0        |0        |0        |1     |1    |0          |0    |0      |0       |1     |0      |0      |0      |0    |1       |0  |0      |\n",
      "|18     |White Balloon, The (1995)                           |01-Jan-1995|NULL            |http://us.imdb.com/M/title-exact?Badkonake%20Sefid%20(1995)        |0      |0     |0        |0        |0        |0     |0    |0          |1    |0      |0       |0     |0      |0      |0      |0    |0       |0  |0      |\n",
      "|19     |Antonia's Line (1995)                               |01-Jan-1995|NULL            |http://us.imdb.com/M/title-exact?Antonia%20(1995)                  |0      |0     |0        |0        |0        |0     |0    |0          |1    |0      |0       |0     |0      |0      |0      |0    |0       |0  |0      |\n",
      "|20     |Angels and Insects (1995)                           |01-Jan-1995|NULL            |http://us.imdb.com/M/title-exact?Angels%20and%20Insects%20(1995)   |0      |0     |0        |0        |0        |0     |0    |0          |1    |0      |0       |0     |0      |0      |1      |0    |0       |0  |0      |\n",
      "+-------+----------------------------------------------------+-----------+----------------+-------------------------------------------------------------------+-------+------+---------+---------+---------+------+-----+-----------+-----+-------+--------+------+-------+-------+-------+-----+--------+---+-------+\n",
      "only showing top 20 rows\n",
      "\n"
     ]
    }
   ],
   "source": [
    "df_item.show(truncate=False)"
   ]
  },
  {
   "cell_type": "code",
   "execution_count": 11,
   "metadata": {},
   "outputs": [],
   "source": [
    "from pyspark.sql.functions import from_unixtime, col\n",
    "\n",
    "df=df_data.join(df_user,'userId',how='inner').join(df_item,'movieId','inner').withColumn('datetime',from_unixtime(col(\"timestamp\"))).drop('timestamp').withColumn('time',date_format(col(\"datetime\"),\"HH:mm:ss\")).withColumn('date',to_date(col(\"datetime\"))).drop('datetime')"
   ]
  },
  {
   "cell_type": "code",
   "execution_count": 12,
   "metadata": {},
   "outputs": [
    {
     "name": "stderr",
     "output_type": "stream",
     "text": [
      "25/03/12 14:41:08 WARN SparkStringUtils: Truncated the string representation of a plan since it was too large. This behavior can be adjusted by setting 'spark.sql.debug.maxToStringFields'.\n"
     ]
    },
    {
     "name": "stdout",
     "output_type": "stream",
     "text": [
      "+-------+------+------+---+------+-------------+-------+--------------------+-----------+----------------+--------------------+-------+------+---------+---------+---------+------+-----+-----------+-----+-------+--------+------+-------+-------+-------+-----+--------+---+-------+--------+----------+\n",
      "|movieId|userId|rating|age|gender|   occupation|zipCode|          movieTitle|releaseDate|videoReleaseDate|             imdbUrl|unknown|action|adventure|animation|childrens|comedy|crime|documentary|drama|fantasy|filmNoir|horror|musical|mystery|romance|sciFi|thriller|war|western|    time|      date|\n",
      "+-------+------+------+---+------+-------------+-------+--------------------+-----------+----------------+--------------------+-------+------+---------+---------+---------+------+-----+-----------+-----+-------+--------+------+-------+-------+-------+-----+--------+---+-------+--------+----------+\n",
      "|    242|   196|   3.0| 49|     M|       writer|  55105|        Kolya (1996)|24-Jan-1997|            NULL|http://us.imdb.co...|      0|     0|        0|        0|        0|     1|    0|          0|    0|      0|       0|     0|      0|      0|      0|    0|       0|  0|      0|15:55:49|1997-12-04|\n",
      "|    302|   186|   3.0| 39|     F|    executive|  00000|L.A. Confidential...|01-Jan-1997|            NULL|http://us.imdb.co...|      0|     0|        0|        0|        0|     0|    1|          0|    0|      0|       1|     0|      0|      1|      0|    0|       1|  0|      0|19:22:22|1998-04-04|\n",
      "|    377|    22|   1.0| 25|     M|       writer|  40206| Heavyweights (1994)|01-Jan-1994|            NULL|http://us.imdb.co...|      0|     0|        0|        0|        1|     1|    0|          0|    0|      0|       0|     0|      0|      0|      0|    0|       0|  0|      0|07:18:36|1997-11-07|\n",
      "|     51|   244|   2.0| 28|     M|   technician|  80525|Legends of the Fa...|01-Jan-1994|            NULL|http://us.imdb.co...|      0|     0|        0|        0|        0|     0|    0|          0|    1|      0|       0|     0|      0|      0|      1|    0|       0|  1|      1|05:02:03|1997-11-27|\n",
      "|    346|   166|   1.0| 47|     M|     educator|  55113| Jackie Brown (1997)|01-Jan-1997|            NULL|http://us.imdb.co...|      0|     0|        0|        0|        0|     0|    1|          0|    1|      0|       0|     0|      0|      0|      0|    0|       0|  0|      0|05:33:16|1998-02-02|\n",
      "|    474|   298|   4.0| 44|     M|    executive|  01581|Dr. Strangelove o...|01-Jan-1963|            NULL|http://us.imdb.co...|      0|     0|        0|        0|        0|     0|    0|          0|    0|      0|       0|     0|      0|      0|      0|    1|       0|  1|      0|14:20:06|1998-01-07|\n",
      "|    265|   115|   2.0| 31|     M|     engineer|  17110|Hunt for Red Octo...|01-Jan-1990|            NULL|http://us.imdb.co...|      0|     1|        0|        0|        0|     0|    0|          0|    0|      0|       0|     0|      0|      0|      0|    0|       1|  0|      0|17:51:28|1997-12-03|\n",
      "|    465|   253|   5.0| 26|     F|    librarian|  22903|Jungle Book, The ...|01-Jan-1994|            NULL|http://us.imdb.co...|      0|     0|        1|        0|        1|     0|    0|          0|    0|      0|       0|     0|      0|      0|      1|    0|       0|  0|      0|18:34:27|1998-04-03|\n",
      "|    451|   305|   3.0| 23|     M|   programmer|  94086|       Grease (1978)|01-Jan-1978|            NULL|http://us.imdb.co...|      0|     0|        0|        0|        0|     1|    0|          0|    0|      0|       0|     0|      1|      0|      1|    0|       0|  0|      0|09:20:17|1998-02-01|\n",
      "|     86|     6|   3.0| 42|     M|    executive|  98101|Remains of the Da...|01-Jan-1993|            NULL|http://us.imdb.co...|      0|     0|        0|        0|        0|     0|    0|          0|    1|      0|       0|     0|      0|      0|      0|    0|       0|  0|      0|21:16:53|1997-12-31|\n",
      "|    257|    62|   2.0| 27|     F|administrator|  97214| Men in Black (1997)|04-Jul-1997|            NULL|http://us.imdb.co...|      0|     1|        1|        0|        0|     1|    0|          0|    0|      0|       0|     0|      0|      0|      0|    1|       0|  0|      0|22:07:14|1997-11-12|\n",
      "|   1014|   286|   5.0| 27|     M|      student|  15217|Romy and Michele'...|25-Apr-1997|            NULL|http://us.imdb.co...|      0|     0|        0|        0|        0|     1|    0|          0|    0|      0|       0|     0|      0|      0|      0|    0|       0|  0|      0|15:38:45|1997-11-17|\n",
      "|    222|   200|   5.0| 40|     M|   programmer|  93402|Star Trek: First ...|22-Nov-1996|            NULL|http://us.imdb.co...|      0|     1|        1|        0|        0|     0|    0|          0|    0|      0|       0|     0|      0|      0|      0|    1|       0|  0|      0|09:05:40|1997-10-05|\n",
      "|     40|   210|   3.0| 39|     M|     engineer|  03060|To Wong Foo, Than...|01-Jan-1995|            NULL|http://us.imdb.co...|      0|     0|        0|        0|        0|     1|    0|          0|    0|      0|       0|     0|      0|      0|      0|    0|       0|  0|      0|21:59:54|1998-03-27|\n",
      "|     29|   224|   3.0| 31|     F|     educator|  43512|Batman Forever (1...|01-Jan-1995|            NULL|http://us.imdb.co...|      0|     1|        1|        0|        0|     1|    1|          0|    0|      0|       0|     0|      0|      0|      0|    0|       0|  0|      0|23:40:57|1998-02-21|\n",
      "|    785|   303|   3.0| 19|     M|      student|  14853|     Only You (1994)|01-Jan-1994|            NULL|http://us.imdb.co...|      0|     0|        0|        0|        0|     1|    0|          0|    0|      0|       0|     0|      0|      0|      1|    0|       0|  0|      0|05:28:38|1997-11-14|\n",
      "|    387|   122|   5.0| 32|     F|       writer|  22206|Age of Innocence,...|01-Jan-1993|            NULL|http://us.imdb.co...|      0|     0|        0|        0|        0|     0|    0|          0|    1|      0|       0|     0|      0|      0|      0|    0|       0|  0|      0|17:47:39|1997-11-11|\n",
      "|    274|   194|   2.0| 38|     M|administrator|  02154|      Sabrina (1995)|01-Jan-1995|            NULL|http://us.imdb.co...|      0|     0|        0|        0|        0|     1|    0|          0|    0|      0|       0|     0|      0|      0|      1|    0|       0|  0|      0|20:36:34|1997-11-14|\n",
      "|   1042|   291|   4.0| 19|     M|      student|  44106|   Just Cause (1995)|01-Jan-1995|            NULL|http://us.imdb.co...|      0|     0|        0|        0|        0|     0|    0|          0|    0|      0|       0|     0|      0|      1|      0|    0|       1|  0|      0|09:42:24|1997-09-21|\n",
      "|   1184|   234|   2.0| 60|     M|      retired|  94702|Endless Summer 2,...|01-Jan-1994|            NULL|http://us.imdb.co...|      0|     0|        0|        0|        0|     0|    0|          1|    0|      0|       0|     0|      0|      0|      0|    0|       0|  0|      0|23:47:17|1998-04-08|\n",
      "+-------+------+------+---+------+-------------+-------+--------------------+-----------+----------------+--------------------+-------+------+---------+---------+---------+------+-----+-----------+-----+-------+--------+------+-------+-------+-------+-----+--------+---+-------+--------+----------+\n",
      "only showing top 20 rows\n",
      "\n"
     ]
    }
   ],
   "source": [
    "df.show()"
   ]
  },
  {
   "cell_type": "code",
   "execution_count": 13,
   "metadata": {},
   "outputs": [],
   "source": [
    "df_data=df_data.drop('timestamp')"
   ]
  },
  {
   "cell_type": "code",
   "execution_count": 14,
   "metadata": {},
   "outputs": [
    {
     "name": "stdout",
     "output_type": "stream",
     "text": [
      "+------+-------+------+\n",
      "|userId|movieId|rating|\n",
      "+------+-------+------+\n",
      "|   196|    242|   3.0|\n",
      "|   186|    302|   3.0|\n",
      "|    22|    377|   1.0|\n",
      "|   244|     51|   2.0|\n",
      "|   166|    346|   1.0|\n",
      "|   298|    474|   4.0|\n",
      "|   115|    265|   2.0|\n",
      "|   253|    465|   5.0|\n",
      "|   305|    451|   3.0|\n",
      "|     6|     86|   3.0|\n",
      "|    62|    257|   2.0|\n",
      "|   286|   1014|   5.0|\n",
      "|   200|    222|   5.0|\n",
      "|   210|     40|   3.0|\n",
      "|   224|     29|   3.0|\n",
      "|   303|    785|   3.0|\n",
      "|   122|    387|   5.0|\n",
      "|   194|    274|   2.0|\n",
      "|   291|   1042|   4.0|\n",
      "|   234|   1184|   2.0|\n",
      "+------+-------+------+\n",
      "only showing top 20 rows\n",
      "\n"
     ]
    }
   ],
   "source": [
    "df_data.show()"
   ]
  },
  {
   "cell_type": "code",
   "execution_count": 15,
   "metadata": {},
   "outputs": [],
   "source": [
    "from pyspark.ml.recommendation import ALS\n",
    "from pyspark.ml.evaluation import RegressionEvaluator\n",
    "from pyspark.ml.tuning import CrossValidator, ParamGridBuilder"
   ]
  },
  {
   "cell_type": "code",
   "execution_count": 16,
   "metadata": {},
   "outputs": [
    {
     "name": "stdout",
     "output_type": "stream",
     "text": [
      "+------+-------+------+\n",
      "|userId|movieId|rating|\n",
      "+------+-------+------+\n",
      "|   196|    242|   3.0|\n",
      "|   186|    302|   3.0|\n",
      "|    22|    377|   1.0|\n",
      "|   244|     51|   2.0|\n",
      "|   166|    346|   1.0|\n",
      "|   298|    474|   4.0|\n",
      "|   115|    265|   2.0|\n",
      "|   253|    465|   5.0|\n",
      "|   305|    451|   3.0|\n",
      "|     6|     86|   3.0|\n",
      "|    62|    257|   2.0|\n",
      "|   286|   1014|   5.0|\n",
      "|   200|    222|   5.0|\n",
      "|   210|     40|   3.0|\n",
      "|   224|     29|   3.0|\n",
      "|   303|    785|   3.0|\n",
      "|   122|    387|   5.0|\n",
      "|   194|    274|   2.0|\n",
      "|   291|   1042|   4.0|\n",
      "|   234|   1184|   2.0|\n",
      "+------+-------+------+\n",
      "only showing top 20 rows\n",
      "\n"
     ]
    }
   ],
   "source": [
    "df_data.show()"
   ]
  },
  {
   "cell_type": "code",
   "execution_count": 17,
   "metadata": {},
   "outputs": [],
   "source": [
    "df_data_tarin,df_data_test=df_data.randomSplit([0.8,0.2])"
   ]
  },
  {
   "cell_type": "code",
   "execution_count": 18,
   "metadata": {},
   "outputs": [
    {
     "name": "stderr",
     "output_type": "stream",
     "text": [
      "                                                                                \r"
     ]
    },
    {
     "data": {
      "text/plain": [
       "79899"
      ]
     },
     "execution_count": 18,
     "metadata": {},
     "output_type": "execute_result"
    }
   ],
   "source": [
    "df_data_tarin.count()"
   ]
  },
  {
   "cell_type": "code",
   "execution_count": 19,
   "metadata": {},
   "outputs": [
    {
     "data": {
      "text/plain": [
       "20101"
      ]
     },
     "execution_count": 19,
     "metadata": {},
     "output_type": "execute_result"
    }
   ],
   "source": [
    "df_data_test.count()"
   ]
  },
  {
   "cell_type": "code",
   "execution_count": 20,
   "metadata": {},
   "outputs": [
    {
     "data": {
      "text/plain": [
       "100000"
      ]
     },
     "execution_count": 20,
     "metadata": {},
     "output_type": "execute_result"
    }
   ],
   "source": [
    "df_data.count()"
   ]
  },
  {
   "cell_type": "code",
   "execution_count": 21,
   "metadata": {},
   "outputs": [],
   "source": [
    "als=ALS(maxIter=10,rank=4,regParam=0.1,userCol='userId',itemCol='movieId',ratingCol='rating')"
   ]
  },
  {
   "cell_type": "code",
   "execution_count": 22,
   "metadata": {},
   "outputs": [
    {
     "name": "stderr",
     "output_type": "stream",
     "text": [
      "                                                                                \r"
     ]
    }
   ],
   "source": [
    "model=als.fit(df_data_tarin)"
   ]
  },
  {
   "cell_type": "code",
   "execution_count": 23,
   "metadata": {},
   "outputs": [],
   "source": [
    "predictions=model.transform(df_data_test)"
   ]
  },
  {
   "cell_type": "code",
   "execution_count": 24,
   "metadata": {},
   "outputs": [
    {
     "name": "stderr",
     "output_type": "stream",
     "text": [
      "                                                                                \r"
     ]
    },
    {
     "name": "stdout",
     "output_type": "stream",
     "text": [
      "+------+-------+------+----------+\n",
      "|userId|movieId|rating|prediction|\n",
      "+------+-------+------+----------+\n",
      "|     1|      6|   5.0| 3.5571942|\n",
      "|     1|     14|   5.0| 3.8853989|\n",
      "|     1|     22|   4.0| 3.8085682|\n",
      "|     1|     26|   3.0| 3.3011384|\n",
      "|     1|     27|   2.0| 2.7762504|\n",
      "|     1|     32|   5.0| 3.9521503|\n",
      "|     1|     36|   2.0|  2.053674|\n",
      "|     1|     46|   4.0| 3.6248262|\n",
      "|     1|     47|   4.0| 3.9471827|\n",
      "|     1|     55|   5.0| 3.8110852|\n",
      "|     1|     64|   5.0|   4.32893|\n",
      "|     1|     68|   4.0| 3.2708783|\n",
      "|     1|     93|   5.0| 3.7443886|\n",
      "|     1|     95|   4.0| 3.5746346|\n",
      "|     1|    101|   2.0| 3.1710448|\n",
      "|     1|    109|   5.0| 3.7101567|\n",
      "|     1|    110|   1.0| 2.0539129|\n",
      "|     1|    112|   1.0| 1.4567938|\n",
      "|     1|    124|   5.0| 4.2176385|\n",
      "|     1|    132|   4.0|  4.218403|\n",
      "+------+-------+------+----------+\n",
      "only showing top 20 rows\n",
      "\n"
     ]
    }
   ],
   "source": [
    "predictions.show()"
   ]
  },
  {
   "cell_type": "code",
   "execution_count": 30,
   "metadata": {},
   "outputs": [],
   "source": [
    "evaluator=RegressionEvaluator(metricName='rmse',predictionCol='prediction',labelCol='rating')"
   ]
  },
  {
   "cell_type": "code",
   "execution_count": 31,
   "metadata": {},
   "outputs": [],
   "source": [
    "predictions=predictions.filter(col('prediction')!='nan')"
   ]
  },
  {
   "cell_type": "code",
   "execution_count": 32,
   "metadata": {},
   "outputs": [],
   "source": [
    "rmse=evaluator.evaluate(predictions)"
   ]
  },
  {
   "cell_type": "code",
   "execution_count": 33,
   "metadata": {},
   "outputs": [
    {
     "name": "stdout",
     "output_type": "stream",
     "text": [
      "0.9214316957753154\n"
     ]
    }
   ],
   "source": [
    "print(rmse)"
   ]
  },
  {
   "cell_type": "code",
   "execution_count": 34,
   "metadata": {},
   "outputs": [],
   "source": [
    "import datetime"
   ]
  },
  {
   "cell_type": "code",
   "execution_count": 41,
   "metadata": {},
   "outputs": [
    {
     "name": "stdout",
     "output_type": "stream",
     "text": [
      "2025-03-12 15:02:16.738661\n"
     ]
    }
   ],
   "source": [
    "print(datetime.datetime.now())"
   ]
  },
  {
   "cell_type": "code",
   "execution_count": 40,
   "metadata": {},
   "outputs": [
    {
     "name": "stdout",
     "output_type": "stream",
     "text": [
      "2025-03-12\n"
     ]
    }
   ],
   "source": [
    "print(datetime.date.today())"
   ]
  },
  {
   "cell_type": "code",
   "execution_count": 54,
   "metadata": {},
   "outputs": [],
   "source": [
    "paramgrid=ParamGridBuilder().addGrid(als.regParam,[0.3,0.01,0.15]).addGrid(als.rank,range(2,8)).build()"
   ]
  },
  {
   "cell_type": "code",
   "execution_count": 55,
   "metadata": {},
   "outputs": [],
   "source": [
    "crossval=CrossValidator(estimator=als,estimatorParamMaps=paramgrid,evaluator=evaluator,numFolds=5)"
   ]
  },
  {
   "cell_type": "code",
   "execution_count": 56,
   "metadata": {},
   "outputs": [],
   "source": [
    "crossmodel=crossval.fit(df_data_tarin)"
   ]
  },
  {
   "cell_type": "code",
   "execution_count": 57,
   "metadata": {},
   "outputs": [],
   "source": [
    "best_model=crossmodel.bestModel"
   ]
  },
  {
   "cell_type": "code",
   "execution_count": 58,
   "metadata": {},
   "outputs": [],
   "source": [
    "predictions=best_model.transform(df_data_test)"
   ]
  },
  {
   "cell_type": "code",
   "execution_count": 59,
   "metadata": {},
   "outputs": [
    {
     "name": "stdout",
     "output_type": "stream",
     "text": [
      "+------+-------+------+----------+\n",
      "|userId|movieId|rating|prediction|\n",
      "+------+-------+------+----------+\n",
      "|     1|      6|   5.0|  3.514723|\n",
      "|     1|     14|   5.0| 3.7462046|\n",
      "|     1|     22|   4.0| 3.8386703|\n",
      "|     1|     26|   3.0| 3.2385054|\n",
      "|     1|     27|   2.0| 2.8747475|\n",
      "|     1|     32|   5.0| 3.6679192|\n",
      "|     1|     36|   2.0| 2.1226118|\n",
      "|     1|     46|   4.0|  3.575832|\n",
      "|     1|     47|   4.0| 3.5412688|\n",
      "|     1|     55|   5.0|  3.508664|\n",
      "|     1|     64|   5.0|  4.153926|\n",
      "|     1|     68|   4.0| 3.2577043|\n",
      "|     1|     93|   5.0|  3.482214|\n",
      "|     1|     95|   4.0|  3.569971|\n",
      "|     1|    101|   2.0| 3.1833694|\n",
      "|     1|    109|   5.0| 3.2610004|\n",
      "|     1|    110|   1.0|  2.381308|\n",
      "|     1|    112|   1.0| 2.0861187|\n",
      "|     1|    124|   5.0| 3.8501463|\n",
      "|     1|    132|   4.0| 3.8335185|\n",
      "+------+-------+------+----------+\n",
      "only showing top 20 rows\n",
      "\n"
     ]
    }
   ],
   "source": [
    "predictions.show()"
   ]
  },
  {
   "cell_type": "code",
   "execution_count": 60,
   "metadata": {},
   "outputs": [],
   "source": [
    "rmse=evaluator.evaluate(predictions.filter(col('prediction')!='nan'))"
   ]
  },
  {
   "cell_type": "code",
   "execution_count": 61,
   "metadata": {},
   "outputs": [
    {
     "name": "stdout",
     "output_type": "stream",
     "text": [
      "0.9832154482043312\n"
     ]
    }
   ],
   "source": [
    "print(rmse)"
   ]
  },
  {
   "cell_type": "code",
   "execution_count": 53,
   "metadata": {},
   "outputs": [
    {
     "name": "stdout",
     "output_type": "stream",
     "text": [
      "+------+-------+------+----------+\n",
      "|userId|movieId|rating|prediction|\n",
      "+------+-------+------+----------+\n",
      "|     1|      6|   5.0| 3.5571942|\n",
      "|     1|     14|   5.0| 3.8853989|\n",
      "|     1|     22|   4.0| 3.8085682|\n",
      "|     1|     26|   3.0| 3.3011384|\n",
      "|     1|     27|   2.0| 2.7762504|\n",
      "|     1|     32|   5.0| 3.9521503|\n",
      "|     1|     36|   2.0|  2.053674|\n",
      "|     1|     46|   4.0| 3.6248262|\n",
      "|     1|     47|   4.0| 3.9471827|\n",
      "|     1|     55|   5.0| 3.8110852|\n",
      "|     1|     64|   5.0|   4.32893|\n",
      "|     1|     68|   4.0| 3.2708783|\n",
      "|     1|     93|   5.0| 3.7443886|\n",
      "|     1|     95|   4.0| 3.5746346|\n",
      "|     1|    101|   2.0| 3.1710448|\n",
      "|     1|    109|   5.0| 3.7101567|\n",
      "|     1|    110|   1.0| 2.0539129|\n",
      "|     1|    112|   1.0| 1.4567938|\n",
      "|     1|    124|   5.0| 4.2176385|\n",
      "|     1|    132|   4.0|  4.218403|\n",
      "+------+-------+------+----------+\n",
      "only showing top 20 rows\n",
      "\n"
     ]
    }
   ],
   "source": [
    "predictions.show()"
   ]
  }
 ],
 "metadata": {
  "kernelspec": {
   "display_name": "venv",
   "language": "python",
   "name": "python3"
  },
  "language_info": {
   "codemirror_mode": {
    "name": "ipython",
    "version": 3
   },
   "file_extension": ".py",
   "mimetype": "text/x-python",
   "name": "python",
   "nbconvert_exporter": "python",
   "pygments_lexer": "ipython3",
   "version": "3.12.3"
  }
 },
 "nbformat": 4,
 "nbformat_minor": 2
}
